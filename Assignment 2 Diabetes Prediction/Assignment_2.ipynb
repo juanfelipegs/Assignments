{
  "nbformat": 4,
  "nbformat_minor": 0,
  "metadata": {
    "colab": {
      "provenance": []
    },
    "kernelspec": {
      "name": "python3",
      "display_name": "Python 3"
    }
  },
  "cells": [
    {
      "cell_type": "markdown",
      "metadata": {
        "id": "4bVy2J0P_-VD"
      },
      "source": [
        "Data:\n",
        "https://www.kaggle.com/uciml/pima-indians-diabetes-database\n",
        "\n",
        "Load the dataset<p>\n",
        "Perform exploratory data analysis\n",
        "\n",
        "\n",
        "1. Target variable distribution\n",
        "2. Examine missing values\n",
        "3. Examine data types\n",
        "4. Examine data distribution\n",
        "5. Examine data intercorrelations\n",
        "\n",
        "\n",
        "<p>\n",
        "5 pts.\n",
        "\n"
      ]
    },
    {
      "cell_type": "markdown",
      "source": [],
      "metadata": {
        "id": "p638cNVrqnYX"
      }
    },
    {
      "cell_type": "code",
      "source": [
        "from google.colab import files\n",
        "uploaded =files.upload()\n",
        "\n",
        "listings = pd.read_csv(io.BytesIO(uploaded['diabetes.csv']))"
      ],
      "metadata": {
        "colab": {
          "base_uri": "https://localhost:8080/",
          "height": 74
        },
        "id": "SAbvX5RxqU-q",
        "outputId": "964a6569-2e28-4982-d340-9af9352bbf0a"
      },
      "execution_count": 11,
      "outputs": [
        {
          "output_type": "display_data",
          "data": {
            "text/plain": [
              "<IPython.core.display.HTML object>"
            ],
            "text/html": [
              "\n",
              "     <input type=\"file\" id=\"files-0112ea0e-2a3d-4fa3-9cfd-f5821c34f1d5\" name=\"files[]\" multiple disabled\n",
              "        style=\"border:none\" />\n",
              "     <output id=\"result-0112ea0e-2a3d-4fa3-9cfd-f5821c34f1d5\">\n",
              "      Upload widget is only available when the cell has been executed in the\n",
              "      current browser session. Please rerun this cell to enable.\n",
              "      </output>\n",
              "      <script>// Copyright 2017 Google LLC\n",
              "//\n",
              "// Licensed under the Apache License, Version 2.0 (the \"License\");\n",
              "// you may not use this file except in compliance with the License.\n",
              "// You may obtain a copy of the License at\n",
              "//\n",
              "//      http://www.apache.org/licenses/LICENSE-2.0\n",
              "//\n",
              "// Unless required by applicable law or agreed to in writing, software\n",
              "// distributed under the License is distributed on an \"AS IS\" BASIS,\n",
              "// WITHOUT WARRANTIES OR CONDITIONS OF ANY KIND, either express or implied.\n",
              "// See the License for the specific language governing permissions and\n",
              "// limitations under the License.\n",
              "\n",
              "/**\n",
              " * @fileoverview Helpers for google.colab Python module.\n",
              " */\n",
              "(function(scope) {\n",
              "function span(text, styleAttributes = {}) {\n",
              "  const element = document.createElement('span');\n",
              "  element.textContent = text;\n",
              "  for (const key of Object.keys(styleAttributes)) {\n",
              "    element.style[key] = styleAttributes[key];\n",
              "  }\n",
              "  return element;\n",
              "}\n",
              "\n",
              "// Max number of bytes which will be uploaded at a time.\n",
              "const MAX_PAYLOAD_SIZE = 100 * 1024;\n",
              "\n",
              "function _uploadFiles(inputId, outputId) {\n",
              "  const steps = uploadFilesStep(inputId, outputId);\n",
              "  const outputElement = document.getElementById(outputId);\n",
              "  // Cache steps on the outputElement to make it available for the next call\n",
              "  // to uploadFilesContinue from Python.\n",
              "  outputElement.steps = steps;\n",
              "\n",
              "  return _uploadFilesContinue(outputId);\n",
              "}\n",
              "\n",
              "// This is roughly an async generator (not supported in the browser yet),\n",
              "// where there are multiple asynchronous steps and the Python side is going\n",
              "// to poll for completion of each step.\n",
              "// This uses a Promise to block the python side on completion of each step,\n",
              "// then passes the result of the previous step as the input to the next step.\n",
              "function _uploadFilesContinue(outputId) {\n",
              "  const outputElement = document.getElementById(outputId);\n",
              "  const steps = outputElement.steps;\n",
              "\n",
              "  const next = steps.next(outputElement.lastPromiseValue);\n",
              "  return Promise.resolve(next.value.promise).then((value) => {\n",
              "    // Cache the last promise value to make it available to the next\n",
              "    // step of the generator.\n",
              "    outputElement.lastPromiseValue = value;\n",
              "    return next.value.response;\n",
              "  });\n",
              "}\n",
              "\n",
              "/**\n",
              " * Generator function which is called between each async step of the upload\n",
              " * process.\n",
              " * @param {string} inputId Element ID of the input file picker element.\n",
              " * @param {string} outputId Element ID of the output display.\n",
              " * @return {!Iterable<!Object>} Iterable of next steps.\n",
              " */\n",
              "function* uploadFilesStep(inputId, outputId) {\n",
              "  const inputElement = document.getElementById(inputId);\n",
              "  inputElement.disabled = false;\n",
              "\n",
              "  const outputElement = document.getElementById(outputId);\n",
              "  outputElement.innerHTML = '';\n",
              "\n",
              "  const pickedPromise = new Promise((resolve) => {\n",
              "    inputElement.addEventListener('change', (e) => {\n",
              "      resolve(e.target.files);\n",
              "    });\n",
              "  });\n",
              "\n",
              "  const cancel = document.createElement('button');\n",
              "  inputElement.parentElement.appendChild(cancel);\n",
              "  cancel.textContent = 'Cancel upload';\n",
              "  const cancelPromise = new Promise((resolve) => {\n",
              "    cancel.onclick = () => {\n",
              "      resolve(null);\n",
              "    };\n",
              "  });\n",
              "\n",
              "  // Wait for the user to pick the files.\n",
              "  const files = yield {\n",
              "    promise: Promise.race([pickedPromise, cancelPromise]),\n",
              "    response: {\n",
              "      action: 'starting',\n",
              "    }\n",
              "  };\n",
              "\n",
              "  cancel.remove();\n",
              "\n",
              "  // Disable the input element since further picks are not allowed.\n",
              "  inputElement.disabled = true;\n",
              "\n",
              "  if (!files) {\n",
              "    return {\n",
              "      response: {\n",
              "        action: 'complete',\n",
              "      }\n",
              "    };\n",
              "  }\n",
              "\n",
              "  for (const file of files) {\n",
              "    const li = document.createElement('li');\n",
              "    li.append(span(file.name, {fontWeight: 'bold'}));\n",
              "    li.append(span(\n",
              "        `(${file.type || 'n/a'}) - ${file.size} bytes, ` +\n",
              "        `last modified: ${\n",
              "            file.lastModifiedDate ? file.lastModifiedDate.toLocaleDateString() :\n",
              "                                    'n/a'} - `));\n",
              "    const percent = span('0% done');\n",
              "    li.appendChild(percent);\n",
              "\n",
              "    outputElement.appendChild(li);\n",
              "\n",
              "    const fileDataPromise = new Promise((resolve) => {\n",
              "      const reader = new FileReader();\n",
              "      reader.onload = (e) => {\n",
              "        resolve(e.target.result);\n",
              "      };\n",
              "      reader.readAsArrayBuffer(file);\n",
              "    });\n",
              "    // Wait for the data to be ready.\n",
              "    let fileData = yield {\n",
              "      promise: fileDataPromise,\n",
              "      response: {\n",
              "        action: 'continue',\n",
              "      }\n",
              "    };\n",
              "\n",
              "    // Use a chunked sending to avoid message size limits. See b/62115660.\n",
              "    let position = 0;\n",
              "    do {\n",
              "      const length = Math.min(fileData.byteLength - position, MAX_PAYLOAD_SIZE);\n",
              "      const chunk = new Uint8Array(fileData, position, length);\n",
              "      position += length;\n",
              "\n",
              "      const base64 = btoa(String.fromCharCode.apply(null, chunk));\n",
              "      yield {\n",
              "        response: {\n",
              "          action: 'append',\n",
              "          file: file.name,\n",
              "          data: base64,\n",
              "        },\n",
              "      };\n",
              "\n",
              "      let percentDone = fileData.byteLength === 0 ?\n",
              "          100 :\n",
              "          Math.round((position / fileData.byteLength) * 100);\n",
              "      percent.textContent = `${percentDone}% done`;\n",
              "\n",
              "    } while (position < fileData.byteLength);\n",
              "  }\n",
              "\n",
              "  // All done.\n",
              "  yield {\n",
              "    response: {\n",
              "      action: 'complete',\n",
              "    }\n",
              "  };\n",
              "}\n",
              "\n",
              "scope.google = scope.google || {};\n",
              "scope.google.colab = scope.google.colab || {};\n",
              "scope.google.colab._files = {\n",
              "  _uploadFiles,\n",
              "  _uploadFilesContinue,\n",
              "};\n",
              "})(self);\n",
              "</script> "
            ]
          },
          "metadata": {}
        },
        {
          "output_type": "stream",
          "name": "stdout",
          "text": [
            "Saving diabetes.csv to diabetes.csv\n"
          ]
        }
      ]
    },
    {
      "source": [
        "import pandas as pd\n",
        "import seaborn as sns\n",
        "from sklearn.model_selection import train_test_split\n",
        "from sklearn.linear_model import LinearRegression\n",
        "import math\n",
        "\n",
        "# Load the dataset from 'diabetes.csv'\n",
        "data = pd.read_csv('diabetes.csv') # Uncomment this line to load the data\n",
        "\n",
        "# Assuming 'data' is the dataset from 'diabetes.csv'\n",
        "# Perform exploratory data analysis\n",
        "# 1. Target variable distribution\n",
        "target_distribution = data['Outcome'].value_counts()  # 'data' contains the loaded dataset\n",
        "\n",
        "# 2. Examine missing values\n",
        "missing_values = data.isnull().sum()\n",
        "\n",
        "# 3. Examine data types\n",
        "data_types = data.dtypes\n",
        "\n",
        "# 4. Examine data distribution (summary statistics)\n",
        "data_distribution = data.describe()\n",
        "\n",
        "# 5. Examine data intercorrelations (correlation matrix)\n",
        "correlation_matrix = data.corr()\n",
        "\n",
        "target_distribution, missing_values, data_types, data_distribution, correlation_matrix"
      ],
      "cell_type": "code",
      "metadata": {
        "colab": {
          "base_uri": "https://localhost:8080/"
        },
        "id": "Y8poSKfWqNLR",
        "outputId": "d256572f-515d-41de-e586-a4b06cc559d8"
      },
      "execution_count": 12,
      "outputs": [
        {
          "output_type": "execute_result",
          "data": {
            "text/plain": [
              "(Outcome\n",
              " 0    500\n",
              " 1    268\n",
              " Name: count, dtype: int64,\n",
              " Pregnancies                 0\n",
              " Glucose                     0\n",
              " BloodPressure               0\n",
              " SkinThickness               0\n",
              " Insulin                     0\n",
              " BMI                         0\n",
              " DiabetesPedigreeFunction    0\n",
              " Age                         0\n",
              " Outcome                     0\n",
              " dtype: int64,\n",
              " Pregnancies                   int64\n",
              " Glucose                       int64\n",
              " BloodPressure                 int64\n",
              " SkinThickness                 int64\n",
              " Insulin                       int64\n",
              " BMI                         float64\n",
              " DiabetesPedigreeFunction    float64\n",
              " Age                           int64\n",
              " Outcome                       int64\n",
              " dtype: object,\n",
              "        Pregnancies     Glucose  BloodPressure  SkinThickness     Insulin  \\\n",
              " count   768.000000  768.000000     768.000000     768.000000  768.000000   \n",
              " mean      3.845052  120.894531      69.105469      20.536458   79.799479   \n",
              " std       3.369578   31.972618      19.355807      15.952218  115.244002   \n",
              " min       0.000000    0.000000       0.000000       0.000000    0.000000   \n",
              " 25%       1.000000   99.000000      62.000000       0.000000    0.000000   \n",
              " 50%       3.000000  117.000000      72.000000      23.000000   30.500000   \n",
              " 75%       6.000000  140.250000      80.000000      32.000000  127.250000   \n",
              " max      17.000000  199.000000     122.000000      99.000000  846.000000   \n",
              " \n",
              "               BMI  DiabetesPedigreeFunction         Age     Outcome  \n",
              " count  768.000000                768.000000  768.000000  768.000000  \n",
              " mean    31.992578                  0.471876   33.240885    0.348958  \n",
              " std      7.884160                  0.331329   11.760232    0.476951  \n",
              " min      0.000000                  0.078000   21.000000    0.000000  \n",
              " 25%     27.300000                  0.243750   24.000000    0.000000  \n",
              " 50%     32.000000                  0.372500   29.000000    0.000000  \n",
              " 75%     36.600000                  0.626250   41.000000    1.000000  \n",
              " max     67.100000                  2.420000   81.000000    1.000000  ,\n",
              "                           Pregnancies   Glucose  BloodPressure  SkinThickness  \\\n",
              " Pregnancies                  1.000000  0.129459       0.141282      -0.081672   \n",
              " Glucose                      0.129459  1.000000       0.152590       0.057328   \n",
              " BloodPressure                0.141282  0.152590       1.000000       0.207371   \n",
              " SkinThickness               -0.081672  0.057328       0.207371       1.000000   \n",
              " Insulin                     -0.073535  0.331357       0.088933       0.436783   \n",
              " BMI                          0.017683  0.221071       0.281805       0.392573   \n",
              " DiabetesPedigreeFunction    -0.033523  0.137337       0.041265       0.183928   \n",
              " Age                          0.544341  0.263514       0.239528      -0.113970   \n",
              " Outcome                      0.221898  0.466581       0.065068       0.074752   \n",
              " \n",
              "                            Insulin       BMI  DiabetesPedigreeFunction  \\\n",
              " Pregnancies              -0.073535  0.017683                 -0.033523   \n",
              " Glucose                   0.331357  0.221071                  0.137337   \n",
              " BloodPressure             0.088933  0.281805                  0.041265   \n",
              " SkinThickness             0.436783  0.392573                  0.183928   \n",
              " Insulin                   1.000000  0.197859                  0.185071   \n",
              " BMI                       0.197859  1.000000                  0.140647   \n",
              " DiabetesPedigreeFunction  0.185071  0.140647                  1.000000   \n",
              " Age                      -0.042163  0.036242                  0.033561   \n",
              " Outcome                   0.130548  0.292695                  0.173844   \n",
              " \n",
              "                                Age   Outcome  \n",
              " Pregnancies               0.544341  0.221898  \n",
              " Glucose                   0.263514  0.466581  \n",
              " BloodPressure             0.239528  0.065068  \n",
              " SkinThickness            -0.113970  0.074752  \n",
              " Insulin                  -0.042163  0.130548  \n",
              " BMI                       0.036242  0.292695  \n",
              " DiabetesPedigreeFunction  0.033561  0.173844  \n",
              " Age                       1.000000  0.238356  \n",
              " Outcome                   0.238356  1.000000  )"
            ]
          },
          "metadata": {},
          "execution_count": 12
        }
      ]
    },
    {
      "cell_type": "markdown",
      "metadata": {
        "id": "AoRZ-CxMCM0C"
      },
      "source": []
    },
    {
      "cell_type": "markdown",
      "metadata": {
        "id": "dugQBRkOf7RX"
      },
      "source": [
        "Split data 70/30 into training and test datasets.<p>\n",
        "Build a logistic regression model to predict diabetes<p>\n",
        "\n",
        "5 pts."
      ]
    },
    {
      "cell_type": "code",
      "metadata": {
        "id": "KSBAHElxN7IQ",
        "colab": {
          "base_uri": "https://localhost:8080/"
        },
        "outputId": "a4bea4fb-0f74-4b5b-a2a4-da30208ef9cc"
      },
      "source": [
        "from sklearn.model_selection import train_test_split\n",
        "from sklearn.linear_model import LogisticRegression\n",
        "from sklearn.metrics import accuracy_score\n",
        "\n",
        "# Define feature columns (X) and target variable (y)\n",
        "X = data.drop('Outcome', axis=1)  # Features\n",
        "y = data['Outcome']  # Target\n",
        "\n",
        "# Split data into 70% training and 30% testing datasets\n",
        "X_train, X_test, y_train, y_test = train_test_split(X, y, test_size=0.30, random_state=42)\n",
        "\n",
        "# Initialize the logistic regression model\n",
        "logreg = LogisticRegression(max_iter=1000)\n",
        "\n",
        "# Train the model on the training data\n",
        "logreg.fit(X_train, y_train)\n",
        "\n",
        "# Make predictions on the test data\n",
        "y_pred = logreg.predict(X_test)\n",
        "\n",
        "# Calculate the accuracy of the model\n",
        "accuracy = accuracy_score(y_test, y_pred)\n",
        "\n",
        "accuracy\n"
      ],
      "execution_count": 13,
      "outputs": [
        {
          "output_type": "execute_result",
          "data": {
            "text/plain": [
              "0.7359307359307359"
            ]
          },
          "metadata": {},
          "execution_count": 13
        }
      ]
    },
    {
      "cell_type": "markdown",
      "metadata": {
        "id": "TlnjDSmXgmIw"
      },
      "source": [
        "Evaluate model performance. <p>\n",
        "Display the confusion matrix.<p>\n",
        "Report the following metrics:\n",
        "\n",
        "1.   ROC AUC\n",
        "2.   Accuracy\n",
        "<li>Recall\n",
        "<li>Precision\n",
        "<li>Display the ROC curve.\n",
        "<p>\n",
        "\n",
        "5 pts.\n",
        "\n",
        "\n",
        "\n"
      ]
    },
    {
      "cell_type": "code",
      "metadata": {
        "id": "HU5q6-3_N9O2",
        "colab": {
          "base_uri": "https://localhost:8080/",
          "height": 689
        },
        "outputId": "14f5969b-1c49-4a25-87ee-0ea84d7bfbba"
      },
      "source": [
        "import matplotlib.pyplot as plt\n",
        "from sklearn.metrics import confusion_matrix, roc_auc_score, accuracy_score, recall_score, precision_score, roc_curve\n",
        "\n",
        "# 1. Evaluate model performance\n",
        "# Predictions\n",
        "y_pred = logreg.predict(X_test)\n",
        "y_pred_prob = logreg.predict_proba(X_test)[:, 1]  # Probabilities for the ROC curve\n",
        "\n",
        "# 2. Confusion Matrix\n",
        "cm = confusion_matrix(y_test, y_pred)\n",
        "print(f\"Confusion Matrix:\\n{cm}\")\n",
        "\n",
        "# 3. Calculate Metrics\n",
        "roc_auc = roc_auc_score(y_test, y_pred_prob)\n",
        "accuracy = accuracy_score(y_test, y_pred)\n",
        "recall = recall_score(y_test, y_pred)\n",
        "precision = precision_score(y_test, y_pred)\n",
        "\n",
        "print(f\"ROC AUC: {roc_auc}\")\n",
        "print(f\"Accuracy: {accuracy}\")\n",
        "print(f\"Recall: {recall}\")\n",
        "print(f\"Precision: {precision}\")\n",
        "\n",
        "# 4. Plot the ROC Curve\n",
        "fpr, tpr, thresholds = roc_curve(y_test, y_pred_prob)\n",
        "plt.figure(figsize=(8, 6))\n",
        "plt.plot(fpr, tpr, label=f'Logistic Regression (AUC = {roc_auc:.2f})')\n",
        "plt.plot([0, 1], [0, 1], 'k--')  # Diagonal line for random guessing\n",
        "plt.xlabel('False Positive Rate')\n",
        "plt.ylabel('True Positive Rate')\n",
        "plt.title('ROC Curve')\n",
        "plt.legend(loc='lower right')\n",
        "plt.show()\n"
      ],
      "execution_count": 14,
      "outputs": [
        {
          "output_type": "stream",
          "name": "stdout",
          "text": [
            "Confusion Matrix:\n",
            "[[120  31]\n",
            " [ 30  50]]\n",
            "ROC AUC: 0.7964403973509933\n",
            "Accuracy: 0.7359307359307359\n",
            "Recall: 0.625\n",
            "Precision: 0.6172839506172839\n"
          ]
        },
        {
          "output_type": "display_data",
          "data": {
            "text/plain": [
              "<Figure size 800x600 with 1 Axes>"
            ],
            "image/png": "[encoded data removed]"
          },
          "metadata": {}
        }
      ]
    },
    {
      "cell_type": "markdown",
      "metadata": {
        "id": "nNYGHIIghXMq"
      },
      "source": [
        "Determine which features have no effect on the Outcome (Hint: you will need to use statsmodels). <p>\n",
        "Exclude  features with non-statistically significant effects in the model, rebuild the model and assess how the reduced feature set affects model performance.\n",
        "\n",
        "5 pts."
      ]
    },
    {
      "cell_type": "code",
      "metadata": {
        "id": "9FYESlfpODdA",
        "colab": {
          "base_uri": "https://localhost:8080/"
        },
        "outputId": "2516d389-6d93-41a9-80f9-3effa14ac915"
      },
      "source": [
        "import statsmodels.api as sm\n",
        "\n",
        "# Add a constant to the model (statsmodels requires an intercept)\n",
        "X_with_constant = sm.add_constant(X)\n",
        "\n",
        "# Fit the logistic regression model using statsmodels\n",
        "logit_model = sm.Logit(y, X_with_constant)\n",
        "result = logit_model.fit()\n",
        "\n",
        "# Display the summary to check p-values\n",
        "print(result.summary())\n"
      ],
      "execution_count": 15,
      "outputs": [
        {
          "output_type": "stream",
          "name": "stdout",
          "text": [
            "Optimization terminated successfully.\n",
            "         Current function value: 0.470993\n",
            "         Iterations 6\n",
            "                           Logit Regression Results                           \n",
            "==============================================================================\n",
            "Dep. Variable:                Outcome   No. Observations:                  768\n",
            "Model:                          Logit   Df Residuals:                      759\n",
            "Method:                           MLE   Df Model:                            8\n",
            "Date:                Fri, 13 Sep 2024   Pseudo R-squ.:                  0.2718\n",
            "Time:                        04:41:35   Log-Likelihood:                -361.72\n",
            "converged:                       True   LL-Null:                       -496.74\n",
            "Covariance Type:            nonrobust   LLR p-value:                 9.652e-54\n",
            "============================================================================================\n",
            "                               coef    std err          z      P>|z|      [0.025      0.975]\n",
            "--------------------------------------------------------------------------------------------\n",
            "const                       -8.4047      0.717    -11.728      0.000      -9.809      -7.000\n",
            "Pregnancies                  0.1232      0.032      3.840      0.000       0.060       0.186\n",
            "Glucose                      0.0352      0.004      9.481      0.000       0.028       0.042\n",
            "BloodPressure               -0.0133      0.005     -2.540      0.011      -0.024      -0.003\n",
            "SkinThickness                0.0006      0.007      0.090      0.929      -0.013       0.014\n",
            "Insulin                     -0.0012      0.001     -1.322      0.186      -0.003       0.001\n",
            "BMI                          0.0897      0.015      5.945      0.000       0.060       0.119\n",
            "DiabetesPedigreeFunction     0.9452      0.299      3.160      0.002       0.359       1.531\n",
            "Age                          0.0149      0.009      1.593      0.111      -0.003       0.033\n",
            "============================================================================================\n"
          ]
        }
      ]
    },
    {
      "source": [
        "# List of columns to drop (based on p-values)\n",
        "# Ensure these column names match the ones in your DataFrame 'X'\n",
        "columns_to_drop = ['Pregnancies', 'Glucose']  # Example: Replace with actual feature names\n",
        "\n",
        "# Drop insignificant features\n",
        "X_reduced = X.drop(columns=columns_to_drop, axis=1)"
      ],
      "cell_type": "code",
      "metadata": {
        "id": "I5GjKeSasJA2"
      },
      "execution_count": 17,
      "outputs": []
    },
    {
      "cell_type": "code",
      "source": [
        "# Split the reduced dataset\n",
        "X_train_reduced, X_test_reduced, y_train, y_test = train_test_split(X_reduced, y, test_size=0.30, random_state=42)\n",
        "\n",
        "# Train the model on the reduced feature set\n",
        "logreg_reduced = LogisticRegression(max_iter=1000)\n",
        "logreg_reduced.fit(X_train_reduced, y_train)\n",
        "\n",
        "# Make predictions and evaluate the new model\n",
        "y_pred_reduced = logreg_reduced.predict(X_test_reduced)\n",
        "\n",
        "# Assess performance metrics as before\n",
        "accuracy_reduced = accuracy_score(y_test, y_pred_reduced)\n",
        "print(f\"Reduced model accuracy: {accuracy_reduced}\")\n"
      ],
      "metadata": {
        "colab": {
          "base_uri": "https://localhost:8080/"
        },
        "id": "OIeVWc-psL7F",
        "outputId": "876848c6-7093-4f78-8cf2-c48d15528e18"
      },
      "execution_count": 18,
      "outputs": [
        {
          "output_type": "stream",
          "name": "stdout",
          "text": [
            "Reduced model accuracy: 0.670995670995671\n"
          ]
        }
      ]
    }
  ]
}